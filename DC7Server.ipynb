{
 "cells": [
  {
   "cell_type": "code",
   "execution_count": 10,
   "id": "53992a76",
   "metadata": {},
   "outputs": [],
   "source": [
    "from xmlrpc.server import SimpleXMLRPCServer\n",
    "from xmlrpc.server import SimpleXMLRPCRequestHandler"
   ]
  },
  {
   "cell_type": "code",
   "execution_count": 11,
   "id": "03850be1",
   "metadata": {},
   "outputs": [],
   "source": [
    "class FactorialServer:\n",
    "    def calculate_factorial(self, n):\n",
    "        if n < 0:\n",
    "            raise ValueError(\"Input must be a non-negative integer.\")\n",
    "        result = 1\n",
    "        for i in range(1, n + 1):\n",
    "            result *= i\n",
    "        return result\n"
   ]
  },
  {
   "cell_type": "code",
   "execution_count": null,
   "id": "69825293",
   "metadata": {},
   "outputs": [
    {
     "name": "stdout",
     "output_type": "stream",
     "text": [
      "FactorialServer is ready to accept requests.\n"
     ]
    },
    {
     "name": "stderr",
     "output_type": "stream",
     "text": [
      "127.0.0.1 - - [29/Apr/2024 22:26:09] \"POST /RPC2 HTTP/1.1\" 200 -\n"
     ]
    }
   ],
   "source": [
    "# Restrict to a particular path.\n",
    "class RequestHandler(SimpleXMLRPCRequestHandler):\n",
    "    rpc_paths = ('/RPC2',)\n",
    "# Create server\n",
    "with SimpleXMLRPCServer(('localhost', 8000),\n",
    "                        requestHandler=RequestHandler) as server:\n",
    "    server.register_introspection_functions()\n",
    "    # Register the FactorialServer class\n",
    "    server.register_instance(FactorialServer())\n",
    "    print(\"FactorialServer is ready to accept requests.\")\n",
    "    # Run the server's main loop\n",
    "    server.serve_forever()\n"
   ]
  },
  {
   "cell_type": "code",
   "execution_count": null,
   "id": "b2d342ad",
   "metadata": {},
   "outputs": [],
   "source": []
  },
  {
   "cell_type": "code",
   "execution_count": null,
   "id": "33f6f27d",
   "metadata": {},
   "outputs": [],
   "source": []
  },
  {
   "cell_type": "code",
   "execution_count": null,
   "id": "32496d43",
   "metadata": {},
   "outputs": [],
   "source": []
  }
 ],
 "metadata": {
  "kernelspec": {
   "display_name": "Python 3 (ipykernel)",
   "language": "python",
   "name": "python3"
  },
  "language_info": {
   "codemirror_mode": {
    "name": "ipython",
    "version": 3
   },
   "file_extension": ".py",
   "mimetype": "text/x-python",
   "name": "python",
   "nbconvert_exporter": "python",
   "pygments_lexer": "ipython3",
   "version": "3.10.9"
  }
 },
 "nbformat": 4,
 "nbformat_minor": 5
}
