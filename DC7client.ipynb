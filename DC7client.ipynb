{
 "cells": [
  {
   "cell_type": "code",
   "execution_count": 5,
   "id": "6d1b186c",
   "metadata": {},
   "outputs": [
    {
     "name": "stdout",
     "output_type": "stream",
     "text": [
      "enter the number6\n",
      "Factorial of 6 is: 720\n"
     ]
    }
   ],
   "source": [
    "import xmlrpc.client\n",
    "# Create an XML-RPC client\n",
    "with xmlrpc.client.ServerProxy(\"http://localhost:8000/RPC2\") as proxy:\n",
    "    try:\n",
    "        # Replace 5 with the desired integer value\n",
    "        #input_value = 5\n",
    "        input_value_str=input(\"enter the number\")\n",
    "        input_value=int(input_value_str)\n",
    "        \n",
    "        result = proxy.calculate_factorial(input_value)\n",
    "        print(f\"Factorial of {input_value} is: {result}\")\n",
    "    except Exception as e:\n",
    "        print(f\"Error: {e}\")\n"
   ]
  },
  {
   "cell_type": "code",
   "execution_count": null,
   "id": "e137d78e",
   "metadata": {},
   "outputs": [],
   "source": []
  }
 ],
 "metadata": {
  "kernelspec": {
   "display_name": "Python 3 (ipykernel)",
   "language": "python",
   "name": "python3"
  },
  "language_info": {
   "codemirror_mode": {
    "name": "ipython",
    "version": 3
   },
   "file_extension": ".py",
   "mimetype": "text/x-python",
   "name": "python",
   "nbconvert_exporter": "python",
   "pygments_lexer": "ipython3",
   "version": "3.10.9"
  }
 },
 "nbformat": 4,
 "nbformat_minor": 5
}
